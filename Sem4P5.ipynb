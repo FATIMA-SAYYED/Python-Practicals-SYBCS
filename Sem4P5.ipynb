{
  "nbformat": 4,
  "nbformat_minor": 0,
  "metadata": {
    "colab": {
      "name": "Sem4P5.ipynb",
      "provenance": [],
      "collapsed_sections": [],
      "authorship_tag": "ABX9TyO6ObTn5/tx5ZEtx8n04MWQ",
      "include_colab_link": true
    },
    "kernelspec": {
      "name": "python3",
      "display_name": "Python 3"
    },
    "language_info": {
      "name": "python"
    }
  },
  "cells": [
    {
      "cell_type": "markdown",
      "metadata": {
        "id": "view-in-github",
        "colab_type": "text"
      },
      "source": [
        "<a href=\"https://colab.research.google.com/github/FATIMA-SAYYED/Python-Practicals-SYBCS/blob/main/Sem4P5.ipynb\" target=\"_parent\"><img src=\"https://colab.research.google.com/assets/colab-badge.svg\" alt=\"Open In Colab\"/></a>"
      ]
    },
    {
      "cell_type": "markdown",
      "source": [
        "Q.1. Construct a triangle with vertices (1,2),(4,7),(9,5)."
      ],
      "metadata": {
        "id": "AJizaE9Qes4k"
      }
    },
    {
      "cell_type": "code",
      "source": [
        "from matplotlib.pyplot import *\n",
        "import numpy as np\n",
        "x=[1,4,9,1]\n",
        "y=[2,7,5,2]\n",
        "plot(x,y,label='Triangle ABC')\n",
        "grid()\n",
        "title('polygon plot')\n",
        "legend()\n",
        "show()"
      ],
      "metadata": {
        "colab": {
          "base_uri": "https://localhost:8080/",
          "height": 281
        },
        "id": "fvIqdNY8fCO7",
        "outputId": "a81764b5-f089-4ebc-bc53-1063db71850c"
      },
      "execution_count": null,
      "outputs": [
        {
          "output_type": "display_data",
          "data": {
            "text/plain": [
              "<Figure size 432x288 with 1 Axes>"
            ],
            "image/png": "[encoded data removed]"
          },
          "metadata": {
            "needs_background": "light"
          }
        }
      ]
    },
    {
      "cell_type": "markdown",
      "source": [
        "Q.2. Construct a square with vertices (1,2),(1,4),(3,4),(3,2)."
      ],
      "metadata": {
        "id": "8cmypcgLgpbQ"
      }
    },
    {
      "cell_type": "code",
      "source": [
        "from matplotlib.pyplot import *\n",
        "import numpy as np\n",
        "x=[1,1,3,3,1]\n",
        "y=[2,4,4,2,2]\n",
        "plot(x,y,label='Square ABCD')\n",
        "grid()\n",
        "title('polygon plot')\n",
        "legend()\n",
        "show()"
      ],
      "metadata": {
        "colab": {
          "base_uri": "https://localhost:8080/",
          "height": 281
        },
        "id": "Uto76DcFhBLA",
        "outputId": "84a31b70-eb26-4c60-9d21-63f24afb83cd"
      },
      "execution_count": null,
      "outputs": [
        {
          "output_type": "display_data",
          "data": {
            "text/plain": [
              "<Figure size 432x288 with 1 Axes>"
            ],
            "image/png": "[encoded data removed]"
          },
          "metadata": {
            "needs_background": "light"
          }
        }
      ]
    },
    {
      "cell_type": "markdown",
      "source": [
        "Q.3.Draw a triangle with vertices(1,1),(1,5),(4,1) also calculate the signed area in clockwise & anticlockwise direction."
      ],
      "metadata": {
        "id": "2RGiNRrSheJA"
      }
    },
    {
      "cell_type": "code",
      "source": [
        "class point:\n",
        "  def __init__(self,x=0,y=0):\n",
        "    self.x=x\n",
        "    self.y=y\n",
        "import numpy as np\n",
        "def trianglearea(a,b,c):\n",
        "  determinant=np.linalg.det([[a.x,a.y,1],[b.x,b.y,1],[c.x,c.y,1]])\n",
        "  return 0.5*determinant\n",
        "a=point(4,1)\n",
        "b=point(1,5)\n",
        "c=point(1,1)\n",
        "area=trianglearea(a,b,c)\n",
        "print('area in anticlockwise direction=',area)\n",
        "a=point(1,1)\n",
        "b=point(1,5)\n",
        "c=point(4,1)\n",
        "area=trianglearea(a,b,c)\n",
        "print('area in clockwise direction=',area)\n"
      ],
      "metadata": {
        "colab": {
          "base_uri": "https://localhost:8080/"
        },
        "id": "p0y6XfISiDYy",
        "outputId": "22b4ecb1-6dd6-46d4-b9aa-f970736f7fa2"
      },
      "execution_count": null,
      "outputs": [
        {
          "output_type": "stream",
          "name": "stdout",
          "text": [
            "area in anticlockwise direction= 5.999999999999997\n",
            "area in clockwise direction= -5.999999999999997\n"
          ]
        }
      ]
    },
    {
      "cell_type": "markdown",
      "source": [
        "Q.4. Check whether following points are collinear.\n",
        "a=(2,4),b=(4,6),c=(6,8)"
      ],
      "metadata": {
        "id": "FEegrvfHk0Bg"
      }
    },
    {
      "cell_type": "code",
      "source": [
        "class point:\n",
        "  def __init__(self,x=0,y=0):\n",
        "    self.x=x\n",
        "    self.y=y\n",
        "import numpy as np\n",
        "def trianglearea(a,b,c):\n",
        "  determinant=np.linalg.det([[a.x,a.y,1],[b.x,b.y,1],[c.x,c.y,1]])\n",
        "  return 0.5*determinant\n",
        "def Collinear(a,b,c):\n",
        "  return trianglearea(a,b,c)==0\n",
        "print(Collinear(a,b,c))\n",
        "a=point(2,4)\n",
        "b=point(4,6)\n",
        "c=point(6,8)\n",
        "area=trianglearea(a,b,c)\n",
        "print('area in anticlockwise direction=',area)"
      ],
      "metadata": {
        "colab": {
          "base_uri": "https://localhost:8080/"
        },
        "id": "YPCgfa6Emq7P",
        "outputId": "101c332b-745f-47b0-b3bc-ff9d8e2664a9"
      },
      "execution_count": null,
      "outputs": [
        {
          "output_type": "stream",
          "name": "stdout",
          "text": [
            "True\n",
            "area in anticlockwise direction= 0.0\n"
          ]
        }
      ]
    },
    {
      "cell_type": "markdown",
      "source": [
        "Q.5. Check whether point C is on the left side of the line segment AB. a=(8,-11),b=(-2,3),c=(-1,-1)"
      ],
      "metadata": {
        "id": "qxQYNdGsoChY"
      }
    },
    {
      "cell_type": "code",
      "source": [
        "class point:\n",
        "  def __init__(self,x=0,y=0):\n",
        "    self.x=x\n",
        "    self.y=y\n",
        "import numpy as np\n",
        "def trianglearea(a,b,c):\n",
        "  determinant=np.linalg.det([[a.x,a.y,1],[b.x,b.y,1],[c.x,c.y,1]])\n",
        "  return 0.5*determinant\n",
        "def Left(a,b,c):\n",
        "  return trianglearea(a,b,c)>0\n",
        "print(Left(a,b,c))\n",
        "a=point(8,-11)\n",
        "b=point(-2,3)\n",
        "c=point(-1,-1)\n",
        "area=trianglearea(a,b,c)\n",
        "print('area in anticlockwise direction=',area)\n"
      ],
      "metadata": {
        "colab": {
          "base_uri": "https://localhost:8080/"
        },
        "id": "WvGFJiVZkzib",
        "outputId": "582d1fdb-aa90-4ec7-c346-3e7884398f47"
      },
      "execution_count": null,
      "outputs": [
        {
          "output_type": "stream",
          "name": "stdout",
          "text": [
            "True\n",
            "area in anticlockwise direction= 12.999999999999995\n"
          ]
        }
      ]
    },
    {
      "cell_type": "markdown",
      "source": [
        "Q.6. Check whether point C is on the right side of the line segment AB. a=(0,9),b=(-2,-5),c=(10,11)"
      ],
      "metadata": {
        "id": "KaW_exEMpjr7"
      }
    },
    {
      "cell_type": "code",
      "source": [
        "class point:\n",
        "  def __init__(self,x=0,y=0):\n",
        "    self.x=x\n",
        "    self.y=y\n",
        "import numpy as np\n",
        "def trianglearea(a,b,c):\n",
        "  determinant=np.linalg.det([[a.x,a.y,1],[b.x,b.y,1],[c.x,c.y,1]])\n",
        "  return 0.5*determinant\n",
        "def Right(a,b,c):\n",
        "  return trianglearea(a,b,c)<0\n",
        "print(Right(a,b,c))\n",
        "a=point(0,-9)\n",
        "b=point(-2,-5)\n",
        "c=point(10,11)\n",
        "area=trianglearea(a,b,c)\n",
        "print('area in anticlockwise direction=',area)"
      ],
      "metadata": {
        "colab": {
          "base_uri": "https://localhost:8080/"
        },
        "id": "CGNOdlKcp6oN",
        "outputId": "1dce8359-73cd-4a51-9a5b-544334d5ba16"
      },
      "execution_count": null,
      "outputs": [
        {
          "output_type": "stream",
          "name": "stdout",
          "text": [
            "True\n",
            "area in anticlockwise direction= -39.999999999999986\n"
          ]
        }
      ]
    },
    {
      "cell_type": "markdown",
      "source": [
        "Q.7. Check whether point C lie in between of the line segment AB.a=(2,4),b=(4,6),c=(6,8)"
      ],
      "metadata": {
        "id": "Iu4Sklieq4Fr"
      }
    },
    {
      "cell_type": "code",
      "source": [
        "class point:\n",
        "  def __init__(self,x=0,y=0):\n",
        "    self.x=x\n",
        "    self.y=y\n",
        "import numpy as np\n",
        "def trianglearea(a,b,c):\n",
        "  determinant=np.linalg.det([[a.x,a.y,1],[b.x,b.y,1],[c.x,c.y,1]])\n",
        "  return 0.5*determinant\n",
        "def Collinear(a,b,c):\n",
        "  return trianglearea(a,b,c)==0\n",
        "def Between(a,b,c):\n",
        "  if Collinear(a,b,c):\n",
        "    return ((a.x<=c.x<=b.x) or (b.x<=c.x<=a.x) and (a.y<=c.y<=b.y) or (b.y<=c.y<=a.y))\n",
        "  return False\n",
        "  \n",
        "print(Between(a,b,c))\n",
        "a=point(2,4)\n",
        "b=point(6,8)\n",
        "c=point(4,6)\n",
        "area=trianglearea(a,b,c)\n",
        "print('area in anticlockwise direction=',area)"
      ],
      "metadata": {
        "colab": {
          "base_uri": "https://localhost:8080/"
        },
        "id": "QarwD0hDrJRp",
        "outputId": "0b032af1-2b60-49b6-d9ad-1c7583910416"
      },
      "execution_count": null,
      "outputs": [
        {
          "output_type": "stream",
          "name": "stdout",
          "text": [
            "True\n",
            "area in anticlockwise direction= 0.0\n"
          ]
        }
      ]
    }
  ]
}