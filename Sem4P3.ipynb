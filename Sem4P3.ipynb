{
  "nbformat": 4,
  "nbformat_minor": 0,
  "metadata": {
    "colab": {
      "name": "Sem4P3",
      "provenance": [],
      "authorship_tag": "ABX9TyM2tPIrzzT2i0GzvkrfqL8f",
      "include_colab_link": true
    },
    "kernelspec": {
      "name": "python3",
      "display_name": "Python 3"
    },
    "language_info": {
      "name": "python"
    }
  },
  "cells": [
    {
      "cell_type": "markdown",
      "metadata": {
        "id": "view-in-github",
        "colab_type": "text"
      },
      "source": [
        "<a href=\"https://colab.research.google.com/github/FATIMA-SAYYED/Python-Practicals-SYBCS/blob/main/Sem4P3.ipynb\" target=\"_parent\"><img src=\"https://colab.research.google.com/assets/colab-badge.svg\" alt=\"Open In Colab\"/></a>"
      ]
    },
    {
      "cell_type": "code",
      "execution_count": null,
      "metadata": {
        "id": "WSuzyaXfUyMx"
      },
      "outputs": [],
      "source": [
        ""
      ]
    },
    {
      "cell_type": "markdown",
      "source": [
        "Q.1. Solve the following LPP using python and find optimal solution if exist.\n",
        "a)Max Z=150x+75y\n",
        "Subject to,\n",
        "4x+6y≤24\n",
        "5x+3y≤15\n",
        "x≥0,y≥0\n"
      ],
      "metadata": {
        "id": "imdr48jlU4Us"
      }
    },
    {
      "cell_type": "code",
      "source": [
        "!pip install pulp\n",
        "from pulp import *\n",
        "model=LpProblem(name=\"Max-problem\",sense=LpMaximize)\n",
        "x=LpVariable(name=\"x\",lowBound=0)\n",
        "y=LpVariable(name=\"y\",lowBound=0)\n",
        "model +=150*x+75*y\n",
        "model += (4*x+6*y<=24)\n",
        "model += (5*x+3*y<=15)\n",
        "print(model)\n",
        "print(\"solution status=\",model.solve())\n",
        "print(\"Max Z=\",model.objective.value())\n",
        "print(\"x=\",x.value())\n",
        "print(\"y=\",y.value())"
      ],
      "metadata": {
        "colab": {
          "base_uri": "https://localhost:8080/"
        },
        "id": "RHc0xBSeVFDA",
        "outputId": "7e2a7336-7eac-4c52-a65d-c9754156d7c0"
      },
      "execution_count": 11,
      "outputs": [
        {
          "output_type": "stream",
          "name": "stdout",
          "text": [
            "Requirement already satisfied: pulp in /usr/local/lib/python3.7/dist-packages (2.6.0)\n",
            "Max-problem:\n",
            "MAXIMIZE\n",
            "150*x + 75*y + 0\n",
            "SUBJECT TO\n",
            "_C1: 4 x + 6 y <= 24\n",
            "\n",
            "_C2: 5 x + 3 y <= 15\n",
            "\n",
            "VARIABLES\n",
            "x Continuous\n",
            "y Continuous\n",
            "\n",
            "solution status= 1\n",
            "Max Z= 450.0\n",
            "x= 3.0\n",
            "y= 0.0\n"
          ]
        }
      ]
    },
    {
      "cell_type": "markdown",
      "source": [
        "b)Min Z=x+2y+z\n",
        "Subject to,\n",
        "x+1/2 y+1/2 z≤1\n",
        "3/2 x+2y+z≥8\n",
        "x≥0,y≥0,z≥0\n"
      ],
      "metadata": {
        "id": "iSsbL2oca_uB"
      }
    },
    {
      "cell_type": "code",
      "source": [
        "!pip install pulp\n",
        "from pulp import *\n",
        "model=LpProblem(name=\"Min-problem\",sense=LpMinimize)\n",
        "x=LpVariable(name=\"x\",lowBound=0)\n",
        "y=LpVariable(name=\"y\",lowBound=0)\n",
        "z=LpVariable(name=\"z\",lowBound=0)\n",
        "model +=x+2*y+z\n",
        "model += (x+(1/2)*y+(1/2)*z<=1)\n",
        "model += ((3/2)*x+2*y+z>=8)\n",
        "print(model)\n",
        "print(\"solution status=\",model.solve())"
      ],
      "metadata": {
        "colab": {
          "base_uri": "https://localhost:8080/"
        },
        "id": "MGTBEKdFbBqE",
        "outputId": "9a63b06e-a85d-407d-c304-9ac9d6004af8"
      },
      "execution_count": 14,
      "outputs": [
        {
          "output_type": "stream",
          "name": "stdout",
          "text": [
            "Requirement already satisfied: pulp in /usr/local/lib/python3.7/dist-packages (2.6.0)\n",
            "Min-problem:\n",
            "MINIMIZE\n",
            "1*x + 2*y + 1*z + 0\n",
            "SUBJECT TO\n",
            "_C1: x + 0.5 y + 0.5 z <= 1\n",
            "\n",
            "_C2: 1.5 x + 2 y + z >= 8\n",
            "\n",
            "VARIABLES\n",
            "x Continuous\n",
            "y Continuous\n",
            "z Continuous\n",
            "\n",
            "solution status= -1\n"
          ]
        }
      ]
    },
    {
      "cell_type": "markdown",
      "source": [
        "c)Max Z=4x+y+3z+5w\n",
        "Subject to,\n",
        "4x+6y-5z-4w≥-20\n",
        "-3x-2y+4z+w≤10\n",
        "-8x-3y+3z+2w≤20\n",
        "x≥0,y≥0,z≥0,w≥0\n"
      ],
      "metadata": {
        "id": "o807Y2o0exMX"
      }
    },
    {
      "cell_type": "code",
      "source": [
        "!pip install pulp\n",
        "from pulp import *\n",
        "model=LpProblem(name=\"Max-problem\",sense=LpMaximize)\n",
        "x=LpVariable(name=\"x\",lowBound=0)\n",
        "y=LpVariable(name=\"y\",lowBound=0)\n",
        "z=LpVariable(name=\"z\",lowBound=0)\n",
        "w=LpVariable(name=\"w\",lowBound=0)\n",
        "model +=4*x+y+3*z+5*w\n",
        "model += (4*x+6*y-5*z-4*w>=-20)\n",
        "model += (-3*x-2*y+4*z+w<=10)\n",
        "model += (-8*x-3*y+3*z+2*w<=20)\n",
        "print(model)\n",
        "print(\"solution status=\",model.solve())"
      ],
      "metadata": {
        "colab": {
          "base_uri": "https://localhost:8080/"
        },
        "id": "1-Jwf0u8ewoG",
        "outputId": "5137f5fc-654b-43b5-a494-ee9cfbc32e50"
      },
      "execution_count": 17,
      "outputs": [
        {
          "output_type": "stream",
          "name": "stdout",
          "text": [
            "Requirement already satisfied: pulp in /usr/local/lib/python3.7/dist-packages (2.6.0)\n",
            "Max-problem:\n",
            "MAXIMIZE\n",
            "5*w + 4*x + 1*y + 3*z + 0\n",
            "SUBJECT TO\n",
            "_C1: - 4 w + 4 x + 6 y - 5 z >= -20\n",
            "\n",
            "_C2: w - 3 x - 2 y + 4 z <= 10\n",
            "\n",
            "_C3: 2 w - 8 x - 3 y + 3 z <= 20\n",
            "\n",
            "VARIABLES\n",
            "w Continuous\n",
            "x Continuous\n",
            "y Continuous\n",
            "z Continuous\n",
            "\n",
            "solution status= -2\n"
          ]
        }
      ]
    },
    {
      "cell_type": "markdown",
      "source": [
        "Min Z=x+y\n",
        "Subject to,\n",
        "x≥6\n",
        "y≥6\n",
        "x+y≤11\n",
        "x≥0,y≥0\n"
      ],
      "metadata": {
        "id": "9Dc-zFEVf0qi"
      }
    },
    {
      "cell_type": "code",
      "source": [
        "!pip install pulp\n",
        "from pulp import *\n",
        "model=LpProblem(name=\"Min-problem\",sense=LpMinimize)\n",
        "x=LpVariable(name=\"x\",lowBound=0)\n",
        "y=LpVariable(name=\"y\",lowBound=0)\n",
        "model +=x+y\n",
        "model += (x>=6)\n",
        "model += (y>=6)\n",
        "model += (x+y<=11)\n",
        "print(model)\n",
        "print(\"solution status=\",model.solve())"
      ],
      "metadata": {
        "colab": {
          "base_uri": "https://localhost:8080/"
        },
        "id": "eciRDg5Of4LP",
        "outputId": "e06d3956-f234-499a-b067-38110496b137"
      },
      "execution_count": 18,
      "outputs": [
        {
          "output_type": "stream",
          "name": "stdout",
          "text": [
            "Requirement already satisfied: pulp in /usr/local/lib/python3.7/dist-packages (2.6.0)\n",
            "Min-problem:\n",
            "MINIMIZE\n",
            "1*x + 1*y + 0\n",
            "SUBJECT TO\n",
            "_C1: x >= 6\n",
            "\n",
            "_C2: y >= 6\n",
            "\n",
            "_C3: x + y <= 11\n",
            "\n",
            "VARIABLES\n",
            "x Continuous\n",
            "y Continuous\n",
            "\n",
            "solution status= -1\n"
          ]
        }
      ]
    },
    {
      "cell_type": "markdown",
      "source": [
        "Min Z=3.5x+2y\n",
        "Subject to,\n",
        "x+y≥5\n",
        "x≥4\n",
        "y≤2\n",
        "x≥0,y≥0\n"
      ],
      "metadata": {
        "id": "bNW9glRqgR5-"
      }
    },
    {
      "cell_type": "code",
      "source": [
        "!pip install pulp\n",
        "from pulp import *\n",
        "model=LpProblem(name=\"Min-problem\",sense=LpMinimize)\n",
        "x=LpVariable(name=\"x\",lowBound=0)\n",
        "y=LpVariable(name=\"y\",lowBound=0)\n",
        "model +=3.5*x+2*y\n",
        "model += (x+y>=5)\n",
        "model += (x>=4)\n",
        "model += (y<=2)\n",
        "print(model)\n",
        "print(\"solution status=\",model.solve())\n",
        "print(\"Min Z=\",model.objective.value())\n",
        "print(\"x=\",x.value())\n",
        "print(\"y=\",y.value())"
      ],
      "metadata": {
        "colab": {
          "base_uri": "https://localhost:8080/"
        },
        "id": "4cEeM0qUgW7W",
        "outputId": "6071bcaf-5ca7-4cb7-e27b-447c61d36a9b"
      },
      "execution_count": 20,
      "outputs": [
        {
          "output_type": "stream",
          "name": "stdout",
          "text": [
            "Requirement already satisfied: pulp in /usr/local/lib/python3.7/dist-packages (2.6.0)\n",
            "Min-problem:\n",
            "MINIMIZE\n",
            "3.5*x + 2*y + 0.0\n",
            "SUBJECT TO\n",
            "_C1: x + y >= 5\n",
            "\n",
            "_C2: x >= 4\n",
            "\n",
            "_C3: y <= 2\n",
            "\n",
            "VARIABLES\n",
            "x Continuous\n",
            "y Continuous\n",
            "\n",
            "solution status= 1\n",
            "Min Z= 16.0\n",
            "x= 4.0\n",
            "y= 1.0\n"
          ]
        }
      ]
    },
    {
      "cell_type": "markdown",
      "source": [
        "Max Z=x+y\n",
        "Subject to,\n",
        "x-y≥1\n",
        "x+y≥2\n",
        "x≥0,y≥0\n",
        "\n"
      ],
      "metadata": {
        "id": "sucR6yN2g4o6"
      }
    },
    {
      "cell_type": "code",
      "source": [
        "!pip install pulp\n",
        "from pulp import *\n",
        "model=LpProblem(name=\"Max-problem\",sense=LpMaximize)\n",
        "x=LpVariable(name=\"x\",lowBound=0)\n",
        "y=LpVariable(name=\"y\",lowBound=0)\n",
        "model +=x+y\n",
        "model += (x-y>=1)\n",
        "model += (x+y>=2)\n",
        "print(model)\n",
        "print(\"solution status=\",model.solve())"
      ],
      "metadata": {
        "colab": {
          "base_uri": "https://localhost:8080/"
        },
        "id": "WXFfw53Tg5sE",
        "outputId": "d2617470-d01a-4129-b87d-517c8d1322d3"
      },
      "execution_count": 22,
      "outputs": [
        {
          "output_type": "stream",
          "name": "stdout",
          "text": [
            "Requirement already satisfied: pulp in /usr/local/lib/python3.7/dist-packages (2.6.0)\n",
            "Max-problem:\n",
            "MAXIMIZE\n",
            "1*x + 1*y + 0\n",
            "SUBJECT TO\n",
            "_C1: x - y >= 1\n",
            "\n",
            "_C2: x + y >= 2\n",
            "\n",
            "VARIABLES\n",
            "x Continuous\n",
            "y Continuous\n",
            "\n",
            "solution status= -2\n"
          ]
        }
      ]
    }
  ]
}