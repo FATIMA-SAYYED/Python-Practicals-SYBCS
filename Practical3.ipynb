{
  "nbformat": 4,
  "nbformat_minor": 0,
  "metadata": {
    "colab": {
      "name": "Practical3.ipynb",
      "provenance": [],
      "collapsed_sections": []
    },
    "kernelspec": {
      "name": "python3",
      "display_name": "Python 3"
    },
    "language_info": {
      "name": "python"
    }
  },
  "cells": [
    {
      "cell_type": "markdown",
      "metadata": {
        "id": "kLVjUusVCjSJ"
      },
      "source": [
        "Two Dimensional Rotation & Reflection\n"
      ]
    },
    {
      "cell_type": "markdown",
      "metadata": {
        "id": "-Ba3oB02EI3t"
      },
      "source": [
        "Rotate the point (2,1) through an angle of 90 degree"
      ]
    },
    {
      "cell_type": "code",
      "metadata": {
        "colab": {
          "base_uri": "https://localhost:8080/",
          "height": 316
        },
        "id": "kmjrr1BYL9ly",
        "outputId": "3cb5c7f0-9c56-4b89-a907-2c095444628f"
      },
      "source": [
        "import numpy as np\n",
        "import matplotlib.pyplot as plt\n",
        "import math\n",
        "def rotation(xy,theta):\n",
        "  x,y=xy\n",
        "  radians=math.radians(theta)\n",
        "  c,s=np.cos(radians),np.sin(radians)\n",
        "  j=np.matrix([[c,s],[-s,c]])\n",
        "  m=np.dot(j,[x,y])\n",
        "  return m.T[0],m.T[1]\n",
        "  \n",
        "theta=90\n",
        "x1=2\n",
        "y1=1  \n",
        "point=(x1,y1)\n",
        "a=rotation(point,theta)\n",
        "A = np.array(a)\n",
        "#print(A)\n",
        "plt.scatter(A[0],A[1])\n",
        "plt.scatter(x1,y1)\n",
        "plt.show()\n"
      ],
      "execution_count": null,
      "outputs": [
        {
          "output_type": "stream",
          "text": [
            "[[[-1.]]\n",
            "\n",
            " [[ 2.]]]\n"
          ],
          "name": "stdout"
        },
        {
          "output_type": "display_data",
          "data": {
            "image/png": "[encoded data removed]",
            "text/plain": [
              "<Figure size 432x288 with 1 Axes>"
            ]
          },
          "metadata": {
            "tags": [],
            "needs_background": "light"
          }
        }
      ]
    },
    {
      "cell_type": "markdown",
      "metadata": {
        "id": "-d13a9GJE6qn"
      },
      "source": [
        "Reflection through the x-axis"
      ]
    },
    {
      "cell_type": "markdown",
      "metadata": {
        "id": "3tYP5pQrFoDg"
      },
      "source": [
        "Reflect the point (0,1) through the x-axis"
      ]
    },
    {
      "cell_type": "code",
      "metadata": {
        "colab": {
          "base_uri": "https://localhost:8080/",
          "height": 265
        },
        "id": "dkAxsXAJE_O0",
        "outputId": "68daa940-2dce-4809-e389-2c729fd5347e"
      },
      "source": [
        "import numpy as np\n",
        "import math\n",
        "def refx(xy):\n",
        "  x,y=xy\n",
        "  j=np.matrix([[1,0],[0,-1]])\n",
        "  m=np.dot(j,[x,y])\n",
        "  return m.T[0],m.T[1]\n",
        "x1=0\n",
        "y1=1\n",
        "point=(x1,y1)\n",
        "a=refx(point)\n",
        "A = np.array(a)\n",
        "#print(A)\n",
        "plt.scatter(A[0],A[1])\n",
        "plt.scatter(x1,y1)\n",
        "plt.show()"
      ],
      "execution_count": null,
      "outputs": [
        {
          "output_type": "display_data",
          "data": {
            "image/png": "[encoded data removed]",
            "text/plain": [
              "<Figure size 432x288 with 1 Axes>"
            ]
          },
          "metadata": {
            "tags": [],
            "needs_background": "light"
          }
        }
      ]
    }
  ]
}