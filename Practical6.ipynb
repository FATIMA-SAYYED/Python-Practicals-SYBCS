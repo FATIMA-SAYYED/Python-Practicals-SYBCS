{
  "nbformat": 4,
  "nbformat_minor": 0,
  "metadata": {
    "colab": {
      "name": "Practical6.ipynb",
      "provenance": [],
      "collapsed_sections": []
    },
    "kernelspec": {
      "name": "python3",
      "display_name": "Python 3"
    },
    "language_info": {
      "name": "python"
    }
  },
  "cells": [
    {
      "cell_type": "markdown",
      "metadata": {
        "id": "NEqkoHOJGSRP"
      },
      "source": [
        "Maximize Z=20x+12y+40z+25w\n",
        "Minimize -Z=-20x-12y-40z-25w\n",
        "    1x+1y+1z+1w<=50\n",
        "    3x+2y+1z+0w<=100\n",
        "    0x+1y+2z+3w<=90\n",
        "    x,y,z,w>=0\n"
      ]
    },
    {
      "cell_type": "code",
      "metadata": {
        "colab": {
          "base_uri": "https://localhost:8080/"
        },
        "id": "vFsfz2zt-x9D",
        "outputId": "18877258-81aa-45dd-c459-7f9912debc62"
      },
      "source": [
        "from scipy.optimize import linprog\n",
        "objfn=[-20,-12,-40,-25]\n",
        "lhs=[[1,1,1,1],\n",
        "     [3,2,1,0],\n",
        "     [0,1,2,3]]\n",
        "rhs=[50,100,90]\n",
        "opt=linprog(c=objfn, A_ub=lhs, b_ub=rhs, method=\"revised simplex\")\n",
        "print(opt)"
      ],
      "execution_count": null,
      "outputs": [
        {
          "output_type": "stream",
          "text": [
            "     con: array([], dtype=float64)\n",
            "     fun: -1900.0\n",
            " message: 'Optimization terminated successfully.'\n",
            "     nit: 2\n",
            "   slack: array([ 0., 40.,  0.])\n",
            "  status: 0\n",
            " success: True\n",
            "       x: array([ 5.,  0., 45.,  0.])\n"
          ],
          "name": "stdout"
        }
      ]
    }
  ]
}