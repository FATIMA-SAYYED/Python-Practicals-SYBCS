{
  "nbformat": 4,
  "nbformat_minor": 0,
  "metadata": {
    "colab": {
      "name": "Practical5.ipynb",
      "provenance": [],
      "collapsed_sections": []
    },
    "kernelspec": {
      "name": "python3",
      "display_name": "Python 3"
    },
    "language_info": {
      "name": "python"
    }
  },
  "cells": [
    {
      "cell_type": "markdown",
      "metadata": {
        "id": "1avAZolv633N"
      },
      "source": [
        "Maximize Z=45x+65y\n",
        "  6x+4y<=120\n",
        "  3x+10y<=180\n",
        "  x>=0 y>=0"
      ]
    },
    {
      "cell_type": "code",
      "metadata": {
        "colab": {
          "base_uri": "https://localhost:8080/"
        },
        "id": "O3I7HVSx7t8q",
        "outputId": "fd621687-25a9-437b-ffb4-774c509f5483"
      },
      "source": [
        "!pip install pulp\n",
        "import pulp as p\n",
        "Lp_prob=p.LpProblem('Problem',p.LpMaximize)\n",
        "x=p.LpVariable(\"x\",lowBound=0)\n",
        "y=p.LpVariable(\"y\",lowBound=0)\n",
        "\n",
        "Lp_prob+=45*x+65*y\n",
        "Lp_prob+=6*x+4*y<=120\n",
        "Lp_prob+=3*x+10*y<=180\n",
        "print(Lp_prob)\n",
        "\n",
        "status=Lp_prob.solve()\n",
        "print(p.LpStatus[status])\n",
        "print(\"Value of X: \",p.value(x))\n",
        "print(\"Value of Y: \",p.value(y))\n",
        "print(\"Maximum Value of Z: \",p.value(Lp_prob.objective))"
      ],
      "execution_count": null,
      "outputs": [
        {
          "output_type": "stream",
          "text": [
            "Requirement already satisfied: pulp in /usr/local/lib/python3.7/dist-packages (2.4)\n",
            "Requirement already satisfied: amply>=0.1.2 in /usr/local/lib/python3.7/dist-packages (from pulp) (0.1.4)\n",
            "Requirement already satisfied: docutils>=0.3 in /usr/local/lib/python3.7/dist-packages (from amply>=0.1.2->pulp) (0.17.1)\n",
            "Requirement already satisfied: pyparsing in /usr/local/lib/python3.7/dist-packages (from amply>=0.1.2->pulp) (2.4.7)\n",
            "Problem:\n",
            "MAXIMIZE\n",
            "45*x + 65*y + 0\n",
            "SUBJECT TO\n",
            "_C1: 6 x + 4 y <= 120\n",
            "\n",
            "_C2: 3 x + 10 y <= 180\n",
            "\n",
            "VARIABLES\n",
            "x Continuous\n",
            "y Continuous\n",
            "\n",
            "Optimal\n",
            "Value of X:  10.0\n",
            "Value of Y:  15.0\n",
            "Maximum Value of Z:  1425.0\n"
          ],
          "name": "stdout"
        }
      ]
    },
    {
      "cell_type": "markdown",
      "metadata": {
        "id": "m8X8HiRM0y3o"
      },
      "source": [
        "Minimize Z=0.2x+0.8y\n",
        "    x+y>=700\n",
        "    0.21x-0.30y<=0\n",
        "    0.03x-0.1y>=0\n",
        "    x>=0 y>=0"
      ]
    },
    {
      "cell_type": "code",
      "metadata": {
        "colab": {
          "base_uri": "https://localhost:8080/"
        },
        "id": "sKiMJVGf1OMs",
        "outputId": "2d7714b6-6427-4bcd-f552-c385c6be52c0"
      },
      "source": [
        "!pip install pulp\n",
        "import pulp as p\n",
        "Lp_prob=p.LpProblem('Problem',p.LpMinimize)\n",
        "x=p.LpVariable(\"x\",lowBound=0)\n",
        "y=p.LpVariable(\"y\",lowBound=0)\n",
        "\n",
        "Lp_prob+=0.2*x+0.8*y\n",
        "Lp_prob+=x+y>=700\n",
        "Lp_prob+=0.21*x+0.30*y<=0\n",
        "Lp_prob+=0.03*x-0.01*y>=0\n",
        "print(Lp_prob)"
      ],
      "execution_count": null,
      "outputs": [
        {
          "output_type": "stream",
          "text": [
            "Requirement already satisfied: pulp in /usr/local/lib/python3.7/dist-packages (2.4)\n",
            "Requirement already satisfied: amply>=0.1.2 in /usr/local/lib/python3.7/dist-packages (from pulp) (0.1.4)\n",
            "Requirement already satisfied: docutils>=0.3 in /usr/local/lib/python3.7/dist-packages (from amply>=0.1.2->pulp) (0.17.1)\n",
            "Requirement already satisfied: pyparsing in /usr/local/lib/python3.7/dist-packages (from amply>=0.1.2->pulp) (2.4.7)\n",
            "Problem:\n",
            "MINIMIZE\n",
            "0.2*x + 0.8*y + 0.0\n",
            "SUBJECT TO\n",
            "_C1: x + y >= 700\n",
            "\n",
            "_C2: 0.21 x + 0.3 y <= 0\n",
            "\n",
            "_C3: 0.03 x - 0.01 y >= 0\n",
            "\n",
            "VARIABLES\n",
            "x Continuous\n",
            "y Continuous\n",
            "\n",
            "Infeasible\n",
            "Value of X:  700.0\n",
            "Value of Y:  0.0\n",
            "Minimum Value of Z:  140.0\n"
          ],
          "name": "stdout"
        }
      ]
    }
  ]
}